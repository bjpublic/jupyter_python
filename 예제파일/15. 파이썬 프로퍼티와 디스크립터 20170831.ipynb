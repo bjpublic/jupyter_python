{
 "cells": [
  {
   "cell_type": "markdown",
   "metadata": {},
   "source": [
    "## 예제 15-1 :  함수를 속성으로 등록해서 처리\n"
   ]
  },
  {
   "cell_type": "code",
   "execution_count": 1,
   "metadata": {
    "collapsed": true
   },
   "outputs": [],
   "source": [
    "def name(self) :\n",
    "    return self._name"
   ]
  },
  {
   "cell_type": "code",
   "execution_count": 8,
   "metadata": {
    "collapsed": true
   },
   "outputs": [],
   "source": [
    "class  Person :\n",
    "    def __init__(self,name,func) :\n",
    "        self.name = func\n",
    "        self._name = name\n",
    "        "
   ]
  },
  {
   "cell_type": "code",
   "execution_count": 10,
   "metadata": {
    "collapsed": false
   },
   "outputs": [
    {
     "data": {
      "text/plain": [
       "'프로퍼티'"
      ]
     },
     "execution_count": 10,
     "metadata": {},
     "output_type": "execute_result"
    }
   ],
   "source": [
    "a = Person(\"프로퍼티\",name) \n",
    "\n",
    "a.name(a)"
   ]
  },
  {
   "cell_type": "code",
   "execution_count": 13,
   "metadata": {
    "collapsed": true
   },
   "outputs": [],
   "source": [
    "class Name  :\n",
    "    \n",
    "    def __get__(self,other,owner=None) :\n",
    "        return getattr(other,\"_name\")\n",
    "    "
   ]
  },
  {
   "cell_type": "code",
   "execution_count": 18,
   "metadata": {
    "collapsed": true
   },
   "outputs": [],
   "source": [
    "class  Person :\n",
    "    def __init__(self,name) :\n",
    "        Person.name = Name()\n",
    "        self._name = name\n",
    "        "
   ]
  },
  {
   "cell_type": "code",
   "execution_count": 19,
   "metadata": {
    "collapsed": false
   },
   "outputs": [
    {
     "name": "stdout",
     "output_type": "stream",
     "text": [
      "프로퍼티\n"
     ]
    }
   ],
   "source": [
    "b = Person(\"프로퍼티\")\n",
    "print(b.name)"
   ]
  },
  {
   "cell_type": "markdown",
   "metadata": {},
   "source": [
    "## 예제 15-2 :  클래스 테코레이터로 메소드 감싸기\n"
   ]
  },
  {
   "cell_type": "code",
   "execution_count": 22,
   "metadata": {
    "collapsed": true
   },
   "outputs": [],
   "source": [
    "class Cached_property :\n",
    "    \n",
    "    def __init__(self, func) :\n",
    "        self._func = func\n",
    "        \n",
    "    def __get__(self,obj,Base=None) :\n",
    "        if obj is None :\n",
    "            return self\n",
    "        value = self._func(obj) \n",
    "        return value\n",
    "        "
   ]
  },
  {
   "cell_type": "code",
   "execution_count": 23,
   "metadata": {
    "collapsed": true
   },
   "outputs": [],
   "source": [
    "class Foo :\n",
    "    def __init__(self,name) :\n",
    "        self._name = name\n",
    "    @Cached_property   \n",
    "    def name(self) :\n",
    "        return self._name"
   ]
  },
  {
   "cell_type": "code",
   "execution_count": 28,
   "metadata": {
    "collapsed": false
   },
   "outputs": [
    {
     "name": "stdout",
     "output_type": "stream",
     "text": [
      "mappingproxy({'__dict__': <attribute '__dict__' of 'Foo' objects>,\n",
      "              '__doc__': None,\n",
      "              '__init__': <function Foo.__init__ at 0x0000000004C2B620>,\n",
      "              '__module__': '__main__',\n",
      "              '__weakref__': <attribute '__weakref__' of 'Foo' objects>,\n",
      "              'name': <__main__.Cached_property object at 0x0000000004C280B8>})\n"
     ]
    }
   ],
   "source": [
    "import pprint\n",
    "\n",
    "pprint.pprint(Foo.__dict__)"
   ]
  },
  {
   "cell_type": "code",
   "execution_count": 29,
   "metadata": {
    "collapsed": false
   },
   "outputs": [
    {
     "name": "stdout",
     "output_type": "stream",
     "text": [
      "{'_name': '이름을 읽는다'}\n",
      "이름을 읽는다\n"
     ]
    }
   ],
   "source": [
    "f = Foo(\"이름을 읽는다\")\n",
    "\n",
    "print(f.__dict__)\n",
    "print(f.name)"
   ]
  },
  {
   "cell_type": "markdown",
   "metadata": {},
   "source": [
    "## 예제 15-3 :  프로퍼티 클래스 이해하기"
   ]
  },
  {
   "cell_type": "code",
   "execution_count": 32,
   "metadata": {
    "collapsed": false
   },
   "outputs": [
    {
     "name": "stdout",
     "output_type": "stream",
     "text": [
      "<class 'property'>\n",
      "<class 'type'>\n"
     ]
    }
   ],
   "source": [
    "print(property)\n",
    "print(type(property))"
   ]
  },
  {
   "cell_type": "code",
   "execution_count": 54,
   "metadata": {
    "collapsed": true
   },
   "outputs": [],
   "source": [
    "class Person :\n",
    "    def __init__(self,name,age) :\n",
    "        self._name = name\n",
    "        self._age = age\n",
    "        \n",
    "    @property\n",
    "    def name(self) :\n",
    "        return self._name\n",
    "    @name.setter\n",
    "    def name(self,value) :\n",
    "        self._name = value\n",
    "        \n",
    "    @property\n",
    "    def age(self) :\n",
    "        return self._age\n",
    "    @age.setter\n",
    "    def age(self,value) :\n",
    "        self._age = value"
   ]
  },
  {
   "cell_type": "code",
   "execution_count": 55,
   "metadata": {
    "collapsed": false
   },
   "outputs": [
    {
     "name": "stdout",
     "output_type": "stream",
     "text": [
      "mappingproxy({'__dict__': <attribute '__dict__' of 'Person' objects>,\n",
      "              '__doc__': None,\n",
      "              '__init__': <function Person.__init__ at 0x0000000004C900D0>,\n",
      "              '__module__': '__main__',\n",
      "              '__weakref__': <attribute '__weakref__' of 'Person' objects>,\n",
      "              'age': <property object at 0x0000000004C88DB8>,\n",
      "              'name': <property object at 0x0000000004C88D68>})\n"
     ]
    }
   ],
   "source": [
    "import pprint\n",
    "\n",
    "pprint.pprint(Person.__dict__)"
   ]
  },
  {
   "cell_type": "code",
   "execution_count": 56,
   "metadata": {
    "collapsed": false
   },
   "outputs": [
    {
     "name": "stdout",
     "output_type": "stream",
     "text": [
      "{'_name': '연개소문', '_age': 30}\n"
     ]
    }
   ],
   "source": [
    "p = Person(\"연개소문\",30) \n",
    "print(p.__dict__)"
   ]
  },
  {
   "cell_type": "code",
   "execution_count": 57,
   "metadata": {
    "collapsed": true
   },
   "outputs": [],
   "source": [
    "p.name = \"프로퍼티로 속성을 바꾸다\"\n",
    "p.age  = 55"
   ]
  },
  {
   "cell_type": "code",
   "execution_count": 58,
   "metadata": {
    "collapsed": false
   },
   "outputs": [
    {
     "name": "stdout",
     "output_type": "stream",
     "text": [
      "{'_name': '프로퍼티로 속성을 바꾸다', '_age': 55}\n"
     ]
    }
   ],
   "source": [
    "print(p.__dict__)"
   ]
  },
  {
   "cell_type": "code",
   "execution_count": 65,
   "metadata": {
    "collapsed": false
   },
   "outputs": [
    {
     "name": "stdout",
     "output_type": "stream",
     "text": [
      "<function Person.name at 0x0000000004C90158>\n",
      "<function Person.name at 0x0000000004C901E0>\n",
      "None\n",
      "<built-in method getter of property object at 0x0000000004C88D68>\n",
      "<built-in method setter of property object at 0x0000000004C88D68>\n",
      "<built-in method deleter of property object at 0x0000000004C88D68>\n"
     ]
    }
   ],
   "source": [
    "print(Person.name.fget)\n",
    "print(Person.name.fset)\n",
    "print(Person.name.fdel)\n",
    "print(Person.name.getter)\n",
    "print(Person.name.setter)\n",
    "print(Person.name.deleter)"
   ]
  },
  {
   "cell_type": "code",
   "execution_count": 69,
   "metadata": {
    "collapsed": false
   },
   "outputs": [
    {
     "name": "stdout",
     "output_type": "stream",
     "text": [
      "<method-wrapper '__get__' of property object at 0x0000000004C88D68>\n",
      "<method-wrapper '__set__' of property object at 0x0000000004C88D68>\n",
      "<method-wrapper '__delete__' of property object at 0x0000000004C88D68>\n"
     ]
    }
   ],
   "source": [
    "print(Person.name.__get__)\n",
    "print(Person.name.__set__)\n",
    "print(Person.name.__delete__)"
   ]
  },
  {
   "cell_type": "code",
   "execution_count": 66,
   "metadata": {
    "collapsed": false
   },
   "outputs": [
    {
     "name": "stdout",
     "output_type": "stream",
     "text": [
      "<function Person.age at 0x0000000004C90268>\n",
      "<function Person.age at 0x0000000004C902F0>\n",
      "None\n",
      "<built-in method getter of property object at 0x0000000004C88DB8>\n",
      "<built-in method setter of property object at 0x0000000004C88DB8>\n",
      "<built-in method deleter of property object at 0x0000000004C88DB8>\n"
     ]
    }
   ],
   "source": [
    "print(Person.age.fget)\n",
    "print(Person.age.fset)\n",
    "print(Person.age.fdel)\n",
    "print(Person.age.getter)\n",
    "print(Person.age.setter)\n",
    "print(Person.age.deleter)"
   ]
  },
  {
   "cell_type": "markdown",
   "metadata": {
    "collapsed": true
   },
   "source": [
    "## 예제 15-4 :   프로퍼티 인스턴스를 생성 후에getter 메소드 할당\n"
   ]
  },
  {
   "cell_type": "code",
   "execution_count": 1,
   "metadata": {
    "collapsed": true
   },
   "outputs": [],
   "source": [
    "class Rectangle :\n",
    "    def __init__(self, height, width) :\n",
    "        self.height = height\n",
    "        self.width = width\n",
    "        \n",
    "    area = property()\n",
    "    \n",
    "    @area.getter \n",
    "    def area(self) :\n",
    "        return self.height * self.width\n",
    "    "
   ]
  },
  {
   "cell_type": "code",
   "execution_count": 6,
   "metadata": {
    "collapsed": false
   },
   "outputs": [
    {
     "name": "stdout",
     "output_type": "stream",
     "text": [
      "<__main__.Rectangle object at 0x11150d860>\n",
      "mappingproxy({'__dict__': <attribute '__dict__' of 'Rectangle' objects>,\n",
      "              '__doc__': None,\n",
      "              '__init__': <function Rectangle.__init__ at 0x1115190d0>,\n",
      "              '__module__': '__main__',\n",
      "              '__weakref__': <attribute '__weakref__' of 'Rectangle' objects>,\n",
      "              'area': <property object at 0x111517318>})\n"
     ]
    }
   ],
   "source": [
    "import pprint\n",
    "\n",
    "r = Rectangle(10,10)\n",
    "print(r)\n",
    "\n",
    "pprint.pprint(Rectangle.__dict__)"
   ]
  },
  {
   "cell_type": "code",
   "execution_count": 3,
   "metadata": {
    "collapsed": false
   },
   "outputs": [
    {
     "name": "stdout",
     "output_type": "stream",
     "text": [
      "100\n"
     ]
    }
   ],
   "source": [
    "print(r.area)"
   ]
  },
  {
   "cell_type": "code",
   "execution_count": 7,
   "metadata": {
    "collapsed": false
   },
   "outputs": [
    {
     "name": "stdout",
     "output_type": "stream",
     "text": [
      "400\n"
     ]
    }
   ],
   "source": [
    "class Rectangle_ :\n",
    "    def __init__(self, height, width) :\n",
    "        self.height = height\n",
    "        self.width = width\n",
    "    \n",
    "    @property \n",
    "    def area(self) :\n",
    "        return self.height * self.width\n",
    "    \n",
    "r_ = Rectangle_(20,20)\n",
    "print(r_.area)"
   ]
  },
  {
   "cell_type": "markdown",
   "metadata": {},
   "source": [
    "## 예제 15-5  계산 처리 메소드를 데코레이터로 등록(getter/setter)\n",
    "\n"
   ]
  },
  {
   "cell_type": "code",
   "execution_count": 12,
   "metadata": {
    "collapsed": true
   },
   "outputs": [],
   "source": [
    "class Area :\n",
    "    def __init__(self, x,y) :\n",
    "        self.x = x\n",
    "        self.y = y\n",
    "        \n",
    "    @property\n",
    "    def get_area(self) :\n",
    "        return self.x * self.y\n",
    "    \n",
    "    @get_area.setter\n",
    "    def get_area(self, txy) :\n",
    "        self.x = txy[0]\n",
    "        self.y = txy[1]"
   ]
  },
  {
   "cell_type": "code",
   "execution_count": 20,
   "metadata": {
    "collapsed": true
   },
   "outputs": [],
   "source": [
    "ar = Area(5,5)"
   ]
  },
  {
   "cell_type": "code",
   "execution_count": 21,
   "metadata": {
    "collapsed": false
   },
   "outputs": [
    {
     "name": "stdout",
     "output_type": "stream",
     "text": [
      "25\n",
      "{'x': 5, 'y': 5}\n"
     ]
    }
   ],
   "source": [
    "print(ar.get_area)\n",
    "print(ar.__dict__)"
   ]
  },
  {
   "cell_type": "code",
   "execution_count": 22,
   "metadata": {
    "collapsed": false
   },
   "outputs": [
    {
     "name": "stdout",
     "output_type": "stream",
     "text": [
      "{'x': 10, 'y': 10}\n"
     ]
    }
   ],
   "source": [
    "ar.get_area = 10,10\n",
    "\n",
    "print(ar.__dict__)"
   ]
  },
  {
   "cell_type": "code",
   "execution_count": 23,
   "metadata": {
    "collapsed": false
   },
   "outputs": [
    {
     "name": "stdout",
     "output_type": "stream",
     "text": [
      "100\n"
     ]
    }
   ],
   "source": [
    "print(ar.get_area)"
   ]
  },
  {
   "cell_type": "markdown",
   "metadata": {
    "collapsed": true
   },
   "source": [
    "## 예제 15-6  프로퍼티 deleter  등록하기 \n"
   ]
  },
  {
   "cell_type": "code",
   "execution_count": 8,
   "metadata": {
    "collapsed": true
   },
   "outputs": [],
   "source": [
    "class Area :\n",
    "    def __init__(self, x,y) :\n",
    "        self.x = x\n",
    "        self.y = y\n",
    "        \n",
    "    @property\n",
    "    def get_area(self) :\n",
    "        return self.x * self.y\n",
    "    \n",
    "    @get_area.setter\n",
    "    def get_area(self, txy) :\n",
    "        self.x = txy[0]\n",
    "        self.y = txy[1]\n",
    "    \n",
    "    @get_area.deleter\n",
    "    def get_area(self) :\n",
    "        del self.x \n",
    "        del self.y "
   ]
  },
  {
   "cell_type": "code",
   "execution_count": 9,
   "metadata": {
    "collapsed": false
   },
   "outputs": [
    {
     "name": "stdout",
     "output_type": "stream",
     "text": [
      "225\n",
      "{'x': 15, 'y': 15}\n"
     ]
    }
   ],
   "source": [
    "ar = Area(15,15)\n",
    "print(ar.get_area)\n",
    "print(ar.__dict__)"
   ]
  },
  {
   "cell_type": "code",
   "execution_count": 10,
   "metadata": {
    "collapsed": false
   },
   "outputs": [
    {
     "name": "stdout",
     "output_type": "stream",
     "text": [
      "{}\n"
     ]
    }
   ],
   "source": [
    "del ar.get_area\n",
    "print(ar.__dict__)"
   ]
  },
  {
   "cell_type": "code",
   "execution_count": 11,
   "metadata": {
    "collapsed": false
   },
   "outputs": [
    {
     "name": "stdout",
     "output_type": "stream",
     "text": [
      "{'x': 10, 'y': 10}\n",
      "100\n"
     ]
    }
   ],
   "source": [
    "ar.get_area = 10,10\n",
    "\n",
    "print(ar.__dict__)\n",
    "print(ar.get_area)"
   ]
  },
  {
   "cell_type": "markdown",
   "metadata": {},
   "source": [
    "## 예제 15-7  프로퍼티 클래스 초기화 메소드 알아보기"
   ]
  },
  {
   "cell_type": "code",
   "execution_count": 19,
   "metadata": {
    "collapsed": true
   },
   "outputs": [],
   "source": [
    "class Property :\n",
    "    \n",
    "    def __init__(self, fget=None, fset=None, fdel=None, doc=None) :\n",
    "        self.fget = fget\n",
    "        self.fset = fset\n",
    "        self.fdel = fdel\n",
    "        if doc is None and fget is not None:\n",
    "            doc = fget.__doc__\n",
    "        self.__doc__ = doc\n",
    "        \n",
    "    def __get__(self, obj, objtype=None):\n",
    "        if obj is None:\n",
    "            return self\n",
    "        if self.fget is None:\n",
    "            raise AttributeError(\"unreadable attribute\")\n",
    "        return self.fget(obj)\n",
    "\n",
    "    def __set__(self, obj, value):\n",
    "        if self.fset is None:\n",
    "            raise AttributeError(\"can't set attribute\")\n",
    "        self.fset(obj, value)\n",
    "\n",
    "    def __delete__(self, obj):\n",
    "        if self.fdel is None:\n",
    "            raise AttributeError(\"can't delete attribute\")\n",
    "        self.fdel(obj)\n",
    "\n",
    "    def getter(self, fget):\n",
    "        print(\" getter call\")\n",
    "        return type(self)(fget, self.fset, self.fdel, self.__doc__)\n",
    "\n",
    "    def setter(self, fset):\n",
    "        return type(self)(self.fget, fset, self.fdel, self.__doc__)\n",
    "\n",
    "    def deleter(self, fdel):\n",
    "        return type(self)(self.fget, self.fset, fdel, self.__doc__)"
   ]
  },
  {
   "cell_type": "markdown",
   "metadata": {},
   "source": [
    "## 예제 15-8 :  클래스를 정의하고 프로퍼티 처리\n"
   ]
  },
  {
   "cell_type": "code",
   "execution_count": 24,
   "metadata": {
    "collapsed": false
   },
   "outputs": [],
   "source": [
    "class User_Klass :\n",
    "    def __init__(self,name) :\n",
    "        self._name = name\n",
    "        \n",
    "    @Property\n",
    "    def name(self) :\n",
    "        return self._name\n",
    "    \n",
    "    @name.setter\n",
    "    def name(self, value) :\n",
    "        self._name = value"
   ]
  },
  {
   "cell_type": "code",
   "execution_count": 25,
   "metadata": {
    "collapsed": false
   },
   "outputs": [
    {
     "name": "stdout",
     "output_type": "stream",
     "text": [
      "mappingproxy({'__dict__': <attribute '__dict__' of 'User_Klass' objects>,\n",
      "              '__doc__': None,\n",
      "              '__init__': <function User_Klass.__init__ at 0x0000000004E13F28>,\n",
      "              '__module__': '__main__',\n",
      "              '__weakref__': <attribute '__weakref__' of 'User_Klass' objects>,\n",
      "              'name': <__main__.Property object at 0x0000000004E35F98>})\n"
     ]
    }
   ],
   "source": [
    "import pprint\n",
    "\n",
    "pprint.pprint(User_Klass.__dict__)"
   ]
  },
  {
   "cell_type": "code",
   "execution_count": 37,
   "metadata": {
    "collapsed": false
   },
   "outputs": [
    {
     "name": "stdout",
     "output_type": "stream",
     "text": [
      "<__main__.User_Klass object at 0x0000000004E232B0>\n",
      "<__main__.Property object at 0x0000000004E35F98>\n",
      "프로퍼티 처리\n",
      " setter로 변경\n"
     ]
    }
   ],
   "source": [
    "u = User_Klass(\"프로퍼티 처리\")\n",
    "print(u)\n",
    "print(User_Klass.name)\n",
    "print(u.name)\n",
    "u.name = \" setter로 변경\"\n",
    "print(u.name)\n"
   ]
  },
  {
   "cell_type": "code",
   "execution_count": 34,
   "metadata": {
    "collapsed": false
   },
   "outputs": [
    {
     "name": "stdout",
     "output_type": "stream",
     "text": [
      " getter call\n"
     ]
    }
   ],
   "source": [
    "class User_Klass1 :\n",
    "    def __init__(self,name) :\n",
    "        self._name = name\n",
    "        \n",
    "    name = Property()\n",
    "    \n",
    "    @name.getter\n",
    "    def name(self) :\n",
    "        return self._name\n",
    "    \n",
    "    @name.setter\n",
    "    def name(self, value) :\n",
    "        self._name = value"
   ]
  },
  {
   "cell_type": "code",
   "execution_count": 38,
   "metadata": {
    "collapsed": false
   },
   "outputs": [
    {
     "name": "stdout",
     "output_type": "stream",
     "text": [
      "mappingproxy({'__dict__': <attribute '__dict__' of 'User_Klass1' objects>,\n",
      "              '__doc__': None,\n",
      "              '__init__': <function User_Klass1.__init__ at 0x0000000004E51378>,\n",
      "              '__module__': '__main__',\n",
      "              '__weakref__': <attribute '__weakref__' of 'User_Klass1' objects>,\n",
      "              'name': <__main__.Property object at 0x0000000004E24780>})\n"
     ]
    }
   ],
   "source": [
    "import pprint\n",
    "\n",
    "pprint.pprint(User_Klass1.__dict__)"
   ]
  },
  {
   "cell_type": "code",
   "execution_count": 36,
   "metadata": {
    "collapsed": false
   },
   "outputs": [
    {
     "name": "stdout",
     "output_type": "stream",
     "text": [
      "<__main__.User_Klass1 object at 0x0000000004E23320>\n",
      "<__main__.Property object at 0x0000000004E24780>\n",
      " getter를 사용\n",
      " setter로 변경\n"
     ]
    }
   ],
   "source": [
    "u1 = User_Klass1(\" getter를 사용\")\n",
    "print(u1)\n",
    "print(User_Klass1.name)\n",
    "print(u1.name)\n",
    "\n",
    "u1.name = \" setter로 변경\"\n",
    "print(u1.name)"
   ]
  },
  {
   "cell_type": "markdown",
   "metadata": {},
   "source": [
    "## 예제 15-9 : 디스크립터를 정의해서 사용시 주의할 점\n"
   ]
  },
  {
   "cell_type": "code",
   "execution_count": 57,
   "metadata": {
    "collapsed": true
   },
   "outputs": [],
   "source": [
    "class Descriptor :\n",
    "    def __init__(self,name) :\n",
    "        self._name = \"_\" + name\n",
    "        \n",
    "    def __get__(self,other,owner=None) :\n",
    "        print(\" __get__ call \")\n",
    "        return other.__dict__[self._name]"
   ]
  },
  {
   "cell_type": "code",
   "execution_count": 58,
   "metadata": {
    "collapsed": true
   },
   "outputs": [],
   "source": [
    "class Owner :\n",
    "    name = Descriptor(\"name\")\n",
    "    age  = Descriptor(\"age\")\n",
    "    "
   ]
  },
  {
   "cell_type": "code",
   "execution_count": 59,
   "metadata": {
    "collapsed": false
   },
   "outputs": [
    {
     "name": "stdout",
     "output_type": "stream",
     "text": [
      "mappingproxy({'__dict__': <attribute '__dict__' of 'Owner' objects>,\n",
      "              '__doc__': None,\n",
      "              '__module__': '__main__',\n",
      "              '__weakref__': <attribute '__weakref__' of 'Owner' objects>,\n",
      "              'age': <__main__.Descriptor object at 0x0000000004E23710>,\n",
      "              'name': <__main__.Descriptor object at 0x0000000004E23588>})\n"
     ]
    }
   ],
   "source": [
    "import pprint\n",
    "\n",
    "o = Owner() \n",
    "\n",
    "pprint.pprint(Owner.__dict__)\n"
   ]
  },
  {
   "cell_type": "code",
   "execution_count": 60,
   "metadata": {
    "collapsed": false
   },
   "outputs": [
    {
     "name": "stdout",
     "output_type": "stream",
     "text": [
      " 디스크립터 \n",
      "{'name': ' 디스크립터 '}\n"
     ]
    }
   ],
   "source": [
    "o.name = \" 디스크립터 \"\n",
    "\n",
    "print(o.name)\n",
    "print(o.__dict__)"
   ]
  },
  {
   "cell_type": "code",
   "execution_count": 61,
   "metadata": {
    "collapsed": true
   },
   "outputs": [],
   "source": [
    "class Descriptor_set :\n",
    "    def __init__(self,name) :\n",
    "        self._name = \"_\" + name\n",
    "        \n",
    "    def __get__(self,other,owner=None) :\n",
    "        print(\" __get__ call \")\n",
    "        return other.__dict__[self._name]\n",
    "    \n",
    "    def __set__(self,other,value) :\n",
    "        print(\" __set__ call \")\n",
    "        other.__dict__[self._name] = value\n",
    "        "
   ]
  },
  {
   "cell_type": "code",
   "execution_count": 62,
   "metadata": {
    "collapsed": false
   },
   "outputs": [
    {
     "name": "stdout",
     "output_type": "stream",
     "text": [
      " __set__ call \n",
      " __get__ call \n",
      " 디스크립터 set \n",
      "{'_name': ' 디스크립터 set '}\n"
     ]
    }
   ],
   "source": [
    "class Owner :\n",
    "    name = Descriptor_set(\"name\")\n",
    "    age  = Descriptor_set(\"age\")\n",
    "    \n",
    "o1 = Owner()\n",
    "    \n",
    "o1.name = \" 디스크립터 set \"\n",
    "\n",
    "print(o1.name)\n",
    "print(o1.__dict__)"
   ]
  },
  {
   "cell_type": "markdown",
   "metadata": {},
   "source": [
    "## 예제 15-10 : 일반적인 속성 접근 순서\n"
   ]
  },
  {
   "cell_type": "code",
   "execution_count": 63,
   "metadata": {
    "collapsed": true
   },
   "outputs": [],
   "source": [
    "class Klass :\n",
    "    name = \" Class attr\" \n",
    "    def __init__(self, name) :\n",
    "        self.name = name\n",
    "        "
   ]
  },
  {
   "cell_type": "code",
   "execution_count": 65,
   "metadata": {
    "collapsed": false
   },
   "outputs": [
    {
     "name": "stdout",
     "output_type": "stream",
     "text": [
      "인스턴스 속성\n",
      "{'name': '인스턴스 속성'}\n"
     ]
    }
   ],
   "source": [
    "k = Klass(\"인스턴스 속성\")\n",
    "\n",
    "print(k.name) \n",
    "print(k.__dict__)"
   ]
  },
  {
   "cell_type": "code",
   "execution_count": 66,
   "metadata": {
    "collapsed": false
   },
   "outputs": [
    {
     "name": "stdout",
     "output_type": "stream",
     "text": [
      "mappingproxy({'__dict__': <attribute '__dict__' of 'Klass' objects>,\n",
      "              '__doc__': None,\n",
      "              '__init__': <function Klass.__init__ at 0x0000000004DF09D8>,\n",
      "              '__module__': '__main__',\n",
      "              '__weakref__': <attribute '__weakref__' of 'Klass' objects>,\n",
      "              'name': ' Class attr'})\n"
     ]
    }
   ],
   "source": [
    "import pprint\n",
    "\n",
    "pprint.pprint(Klass.__dict__)"
   ]
  },
  {
   "cell_type": "markdown",
   "metadata": {},
   "source": [
    "## 예제 15-11 :  디스크립터 지정 시 속성 접근 순서"
   ]
  },
  {
   "cell_type": "code",
   "execution_count": 72,
   "metadata": {
    "collapsed": true
   },
   "outputs": [],
   "source": [
    "class Descriptor_set :\n",
    "    def __init__(self,name) :\n",
    "        self._name = \"_\" + name\n",
    "        \n",
    "    def __get__(self,other,owner=None) :\n",
    "        print(\" __get__ call \")\n",
    "        return other.__dict__[self._name]\n",
    "    \n",
    "    def __set__(self,other,value) :\n",
    "        print(\" __set__ call \")\n",
    "        other.__dict__[self._name] = value\n",
    "        "
   ]
  },
  {
   "cell_type": "code",
   "execution_count": 76,
   "metadata": {
    "collapsed": false
   },
   "outputs": [],
   "source": [
    "class Klass :\n",
    "    name = Descriptor_set(\"name\")\n",
    "    def __init__(self, name) :\n",
    "        print(\" Klass __init__\")\n",
    "        self.name = name"
   ]
  },
  {
   "cell_type": "code",
   "execution_count": 77,
   "metadata": {
    "collapsed": false
   },
   "outputs": [
    {
     "name": "stdout",
     "output_type": "stream",
     "text": [
      " Klass __init__\n",
      " __set__ call \n",
      " __get__ call \n",
      "인스턴스 속성\n",
      "{'_name': '인스턴스 속성'}\n"
     ]
    }
   ],
   "source": [
    "k = Klass(\"인스턴스 속성\")\n",
    "\n",
    "print(k.name) \n",
    "print(k.__dict__)"
   ]
  },
  {
   "cell_type": "code",
   "execution_count": 78,
   "metadata": {
    "collapsed": false
   },
   "outputs": [
    {
     "name": "stdout",
     "output_type": "stream",
     "text": [
      "mappingproxy({'__dict__': <attribute '__dict__' of 'Klass' objects>,\n",
      "              '__doc__': None,\n",
      "              '__init__': <function Klass.__init__ at 0x0000000004E38048>,\n",
      "              '__module__': '__main__',\n",
      "              '__weakref__': <attribute '__weakref__' of 'Klass' objects>,\n",
      "              'name': <__main__.Descriptor_set object at 0x0000000004E46240>})\n"
     ]
    }
   ],
   "source": [
    "import pprint\n",
    "\n",
    "pprint.pprint(Klass.__dict__)"
   ]
  },
  {
   "cell_type": "markdown",
   "metadata": {},
   "source": [
    "## 예제 15-12 : 디스크립터 클래스에 __delete__ 생성\n"
   ]
  },
  {
   "cell_type": "code",
   "execution_count": 1,
   "metadata": {
    "collapsed": true
   },
   "outputs": [],
   "source": [
    "class Descriptor_del :\n",
    "    def __init__(self,name) :\n",
    "        self._name = \"_\" + name\n",
    "        \n",
    "    def __get__(self,other,owner=None) :\n",
    "        print(\" __get__ call \")\n",
    "        return other.__dict__[self.name]\n",
    "    \n",
    "    def __set__(self,other,value) :\n",
    "        print(\" __set__ call \")\n",
    "        other.__dict__[self._name] = value\n",
    "        \n",
    "    def __delete__(self,other) :\n",
    "        print(\" __delete__ call \")\n",
    "        del other.__dict__[self._name]\n",
    "        "
   ]
  },
  {
   "cell_type": "code",
   "execution_count": 87,
   "metadata": {
    "collapsed": true
   },
   "outputs": [],
   "source": [
    "class Klass :\n",
    "    name = Descriptor_del(\"name\")\n",
    "    def __init__(self, name) :\n",
    "        print(\" Klass __init__\")\n",
    "        self.name = name"
   ]
  },
  {
   "cell_type": "code",
   "execution_count": 88,
   "metadata": {
    "collapsed": false
   },
   "outputs": [
    {
     "name": "stdout",
     "output_type": "stream",
     "text": [
      " Klass __init__\n",
      " __set__ call \n",
      " __get__ call \n",
      "인스턴스 속성\n",
      "{'_name': '인스턴스 속성'}\n"
     ]
    }
   ],
   "source": [
    "k = Klass(\"인스턴스 속성\")\n",
    "\n",
    "print(k.name) \n",
    "print(k.__dict__)"
   ]
  },
  {
   "cell_type": "code",
   "execution_count": 89,
   "metadata": {
    "collapsed": false
   },
   "outputs": [
    {
     "name": "stdout",
     "output_type": "stream",
     "text": [
      " __delete__ call \n",
      "{}\n"
     ]
    }
   ],
   "source": [
    "del k.name\n",
    "\n",
    "print(k.__dict__)"
   ]
  },
  {
   "cell_type": "markdown",
   "metadata": {
    "collapsed": true
   },
   "source": [
    "## 예제 15-13  : 무한 순환 발생 원인\n"
   ]
  },
  {
   "cell_type": "code",
   "execution_count": 2,
   "metadata": {
    "collapsed": true
   },
   "outputs": [],
   "source": [
    "class Descriptor_loop :\n",
    "    def __init__(self,name) :\n",
    "        self._name =  name\n",
    "        \n",
    "    def __get__(self,other,owner=None) :\n",
    "        print(\" __get__ call \")\n",
    "        #return getattr(other, self._name)\n",
    "        return other.__dict__[self._name]\n",
    "    \n",
    "    def __set__(self,other,value) :\n",
    "        print(\" __set__ call \")\n",
    "        other.__dict__[self._name] = value\n",
    "        \n",
    "    def __delete__(self,other) :\n",
    "        print(\" __delete__ call \")\n",
    "        del other.__dict__[self._name]"
   ]
  },
  {
   "cell_type": "code",
   "execution_count": 13,
   "metadata": {
    "collapsed": true
   },
   "outputs": [],
   "source": [
    "class Descriptor_loop1 :\n",
    "    def __init__(self,name) :\n",
    "        self._name =  \"_\"+name\n",
    "        \n",
    "    def __get__(self,other,owner=None) :\n",
    "        print(\" loop1 __get__ call \")\n",
    "        return getattr(other, self._name)\n",
    "       \n",
    "    \n",
    "    def __set__(self,other,value) :\n",
    "        print(\" loop1 __set__ call \")\n",
    "        setattr(other, self._name, value)\n",
    "        \n",
    "    def __delete__(self,other) :\n",
    "        print(\" loop1 __delete__ call \")\n",
    "        delattr(other, self._name)"
   ]
  },
  {
   "cell_type": "code",
   "execution_count": 14,
   "metadata": {
    "collapsed": false
   },
   "outputs": [],
   "source": [
    "class Klass :\n",
    "    name = Descriptor_loop1(\"name\")\n",
    "    def __init__(self, name) :\n",
    "        print(\" Klass __init__\")\n",
    "        self.name = name"
   ]
  },
  {
   "cell_type": "code",
   "execution_count": 15,
   "metadata": {
    "collapsed": false
   },
   "outputs": [
    {
     "name": "stdout",
     "output_type": "stream",
     "text": [
      " Klass __init__\n",
      " loop1 __set__ call \n",
      " loop1 __get__ call \n",
      "인스턴스 속성\n",
      "{'_name': '인스턴스 속성'}\n"
     ]
    }
   ],
   "source": [
    "k = Klass(\"인스턴스 속성\")\n",
    "\n",
    "print(k.name) \n",
    "print(k.__dict__)"
   ]
  },
  {
   "cell_type": "code",
   "execution_count": 16,
   "metadata": {
    "collapsed": false
   },
   "outputs": [
    {
     "name": "stdout",
     "output_type": "stream",
     "text": [
      " loop1 __delete__ call \n",
      "{}\n"
     ]
    }
   ],
   "source": [
    "del k.name\n",
    "\n",
    "print(k.__dict__)"
   ]
  },
  {
   "cell_type": "markdown",
   "metadata": {},
   "source": [
    "## 예제 15-14  : 메소드 디스크립터 처리"
   ]
  },
  {
   "cell_type": "code",
   "execution_count": 45,
   "metadata": {
    "collapsed": true
   },
   "outputs": [],
   "source": [
    "class Descriptor_method :\n",
    "    def __init__(self,name) :\n",
    "        self._name =  name\n",
    "        \n",
    "    def __get__(self,other,owner=None) :\n",
    "        print(\" __get__ call \")\n",
    "        return other.__dict__[self._name](other)\n",
    "    \n",
    "    def __set__(self,other,value) :\n",
    "        print(\" __set__ call \")\n",
    "        other.__dict__[self._name] = value\n"
   ]
  },
  {
   "cell_type": "code",
   "execution_count": 48,
   "metadata": {
    "collapsed": true
   },
   "outputs": [],
   "source": [
    "def getname(self) : \n",
    "    return self._name\n",
    "    \n",
    "\n",
    "class Method :\n",
    "    name = Descriptor_method(\"getname\")\n",
    "    def __init__(self, func_name) :\n",
    "        self.name = func_name\n",
    "        self._name = \" 메소드 호출 \"\n",
    "    "
   ]
  },
  {
   "cell_type": "code",
   "execution_count": 49,
   "metadata": {
    "collapsed": false
   },
   "outputs": [
    {
     "name": "stdout",
     "output_type": "stream",
     "text": [
      " __set__ call \n",
      " __get__ call \n",
      " 메소드 호출 \n"
     ]
    }
   ],
   "source": [
    "m = Method(getname)\n",
    "\n",
    "print(m.name)"
   ]
  },
  {
   "cell_type": "code",
   "execution_count": 50,
   "metadata": {
    "collapsed": false
   },
   "outputs": [
    {
     "name": "stdout",
     "output_type": "stream",
     "text": [
      "mappingproxy({'__dict__': <attribute '__dict__' of 'Method' objects>,\n",
      "              '__doc__': None,\n",
      "              '__init__': <function Method.__init__ at 0x0000000004C1E0D0>,\n",
      "              '__module__': '__main__',\n",
      "              '__weakref__': <attribute '__weakref__' of 'Method' objects>,\n",
      "              'name': <__main__.Descriptor_method object at 0x0000000004C1A278>})\n"
     ]
    }
   ],
   "source": [
    "import pprint\n",
    "\n",
    "pprint.pprint(Method.__dict__) \n"
   ]
  },
  {
   "cell_type": "markdown",
   "metadata": {},
   "source": [
    "## 예제 15-15  :  내장 클래스 int 내의 __add__ 메소드 처리 기준 이해"
   ]
  },
  {
   "cell_type": "code",
   "execution_count": 30,
   "metadata": {
    "collapsed": false
   },
   "outputs": [
    {
     "data": {
      "text/plain": [
       "<method-wrapper '__get__' of wrapper_descriptor object at 0x0000000001C97728>"
      ]
     },
     "execution_count": 30,
     "metadata": {},
     "output_type": "execute_result"
    }
   ],
   "source": [
    "int.__add__.__get__"
   ]
  },
  {
   "cell_type": "code",
   "execution_count": 31,
   "metadata": {
    "collapsed": false
   },
   "outputs": [
    {
     "data": {
      "text/plain": [
       "<slot wrapper '__add__' of 'int' objects>"
      ]
     },
     "execution_count": 31,
     "metadata": {},
     "output_type": "execute_result"
    }
   ],
   "source": [
    "int.__add__"
   ]
  },
  {
   "cell_type": "code",
   "execution_count": 60,
   "metadata": {
    "collapsed": false
   },
   "outputs": [
    {
     "name": "stdout",
     "output_type": "stream",
     "text": [
      "<slot wrapper '__add__' of 'int' objects>\n",
      "<method-wrapper '__add__' of int object at 0x00000000620DB9D0>\n",
      "3\n"
     ]
    }
   ],
   "source": [
    "v = int.__add__.__get__(1)\n",
    "print(int.__add__)\n",
    "print(v)\n",
    "print(v(2))"
   ]
  },
  {
   "cell_type": "code",
   "execution_count": 54,
   "metadata": {
    "collapsed": true
   },
   "outputs": [],
   "source": [
    "import types\n",
    "\n",
    "def add(self) :\n",
    "    return self\n",
    "\n",
    "class Function(object):\n",
    "    \n",
    "    def __get__(self, obj, objtype=None):\n",
    "        \"Simulate func_descr_get() in Objects/funcobject.c\"\n",
    "        print(\" __get__\")\n",
    "        return types.MethodType(self, obj)\n",
    "    \n"
   ]
  },
  {
   "cell_type": "code",
   "execution_count": 56,
   "metadata": {
    "collapsed": false
   },
   "outputs": [],
   "source": [
    "class A :\n",
    "    func = Function()\n",
    "    "
   ]
  },
  {
   "cell_type": "code",
   "execution_count": 61,
   "metadata": {
    "collapsed": false
   },
   "outputs": [
    {
     "name": "stdout",
     "output_type": "stream",
     "text": [
      " __get__\n"
     ]
    },
    {
     "ename": "TypeError",
     "evalue": "first argument must be callable",
     "output_type": "error",
     "traceback": [
      "\u001b[0;31m---------------------------------------------------------------------------\u001b[0m",
      "\u001b[0;31mTypeError\u001b[0m                                 Traceback (most recent call last)",
      "\u001b[0;32m<ipython-input-61-6caffed504b0>\u001b[0m in \u001b[0;36m<module>\u001b[0;34m()\u001b[0m\n\u001b[1;32m      1\u001b[0m \u001b[0ma\u001b[0m \u001b[1;33m=\u001b[0m \u001b[0mA\u001b[0m\u001b[1;33m(\u001b[0m\u001b[1;33m)\u001b[0m\u001b[1;33m\u001b[0m\u001b[0m\n\u001b[1;32m      2\u001b[0m \u001b[1;33m\u001b[0m\u001b[0m\n\u001b[0;32m----> 3\u001b[0;31m \u001b[0mprint\u001b[0m\u001b[1;33m(\u001b[0m\u001b[0ma\u001b[0m\u001b[1;33m.\u001b[0m\u001b[0mfunc\u001b[0m\u001b[1;33m(\u001b[0m\u001b[0madd\u001b[0m\u001b[1;33m)\u001b[0m\u001b[1;33m)\u001b[0m\u001b[1;33m\u001b[0m\u001b[0m\n\u001b[0m",
      "\u001b[0;32m<ipython-input-54-6d398560265c>\u001b[0m in \u001b[0;36m__get__\u001b[0;34m(self, obj, objtype)\u001b[0m\n\u001b[1;32m      6\u001b[0m         \u001b[1;34m\"Simulate func_descr_get() in Objects/funcobject.c\"\u001b[0m\u001b[1;33m\u001b[0m\u001b[0m\n\u001b[1;32m      7\u001b[0m         \u001b[0mprint\u001b[0m\u001b[1;33m(\u001b[0m\u001b[1;34m\" __get__\"\u001b[0m\u001b[1;33m)\u001b[0m\u001b[1;33m\u001b[0m\u001b[0m\n\u001b[0;32m----> 8\u001b[0;31m         \u001b[1;32mreturn\u001b[0m \u001b[0mtypes\u001b[0m\u001b[1;33m.\u001b[0m\u001b[0mMethodType\u001b[0m\u001b[1;33m(\u001b[0m\u001b[0mself\u001b[0m\u001b[1;33m,\u001b[0m \u001b[0mobj\u001b[0m\u001b[1;33m)\u001b[0m\u001b[1;33m\u001b[0m\u001b[0m\n\u001b[0m",
      "\u001b[0;31mTypeError\u001b[0m: first argument must be callable"
     ]
    }
   ],
   "source": [
    "a = A()\n",
    "\n",
    "print(a.func(add))"
   ]
  },
  {
   "cell_type": "code",
   "execution_count": 66,
   "metadata": {
    "collapsed": false
   },
   "outputs": [],
   "source": [
    "class A :\n",
    "    def __init__(self,name) :\n",
    "        self.name = name\n",
    "        \n",
    "aa = A(\"aaaaa \")"
   ]
  },
  {
   "cell_type": "code",
   "execution_count": 72,
   "metadata": {
    "collapsed": false
   },
   "outputs": [
    {
     "ename": "TypeError",
     "evalue": "function() argument 1 must be code, not A",
     "output_type": "error",
     "traceback": [
      "\u001b[0;31m---------------------------------------------------------------------------\u001b[0m",
      "\u001b[0;31mTypeError\u001b[0m                                 Traceback (most recent call last)",
      "\u001b[0;32m<ipython-input-72-b5df8b581430>\u001b[0m in \u001b[0;36m<module>\u001b[0;34m()\u001b[0m\n\u001b[1;32m      3\u001b[0m \u001b[0ma\u001b[0m \u001b[1;33m=\u001b[0m \u001b[0mtypes\u001b[0m\u001b[1;33m.\u001b[0m\u001b[0mMethodType\u001b[0m\u001b[1;33m(\u001b[0m\u001b[0mtype\u001b[0m\u001b[1;33m(\u001b[0m\u001b[0madd\u001b[0m\u001b[1;33m)\u001b[0m\u001b[1;33m,\u001b[0m\u001b[0madd\u001b[0m\u001b[1;33m)\u001b[0m\u001b[1;33m\u001b[0m\u001b[0m\n\u001b[1;32m      4\u001b[0m \u001b[1;33m\u001b[0m\u001b[0m\n\u001b[0;32m----> 5\u001b[0;31m \u001b[0ma\u001b[0m\u001b[1;33m.\u001b[0m\u001b[0m__func__\u001b[0m\u001b[1;33m(\u001b[0m\u001b[0maa\u001b[0m\u001b[1;33m)\u001b[0m\u001b[1;33m\u001b[0m\u001b[0m\n\u001b[0m",
      "\u001b[0;31mTypeError\u001b[0m: function() argument 1 must be code, not A"
     ]
    }
   ],
   "source": [
    "def add(self) :\n",
    "    return self.name\n",
    "a = types.MethodType(type(add),add)\n",
    "\n",
    "a.__func__(aa)"
   ]
  },
  {
   "cell_type": "code",
   "execution_count": 59,
   "metadata": {
    "collapsed": false
   },
   "outputs": [
    {
     "name": "stdout",
     "output_type": "stream",
     "text": [
      "Help on class method in module builtins:\n",
      "\n",
      "class method(object)\n",
      " |  method(function, instance)\n",
      " |  \n",
      " |  Create a bound instance method object.\n",
      " |  \n",
      " |  Methods defined here:\n",
      " |  \n",
      " |  __call__(self, /, *args, **kwargs)\n",
      " |      Call self as a function.\n",
      " |  \n",
      " |  __delattr__(self, name, /)\n",
      " |      Implement delattr(self, name).\n",
      " |  \n",
      " |  __eq__(self, value, /)\n",
      " |      Return self==value.\n",
      " |  \n",
      " |  __ge__(self, value, /)\n",
      " |      Return self>=value.\n",
      " |  \n",
      " |  __get__(self, instance, owner, /)\n",
      " |      Return an attribute of instance, which is of type owner.\n",
      " |  \n",
      " |  __getattribute__(self, name, /)\n",
      " |      Return getattr(self, name).\n",
      " |  \n",
      " |  __gt__(self, value, /)\n",
      " |      Return self>value.\n",
      " |  \n",
      " |  __hash__(self, /)\n",
      " |      Return hash(self).\n",
      " |  \n",
      " |  __le__(self, value, /)\n",
      " |      Return self<=value.\n",
      " |  \n",
      " |  __lt__(self, value, /)\n",
      " |      Return self<value.\n",
      " |  \n",
      " |  __ne__(self, value, /)\n",
      " |      Return self!=value.\n",
      " |  \n",
      " |  __new__(*args, **kwargs) from builtins.type\n",
      " |      Create and return a new object.  See help(type) for accurate signature.\n",
      " |  \n",
      " |  __reduce__(...)\n",
      " |      helper for pickle\n",
      " |  \n",
      " |  __repr__(self, /)\n",
      " |      Return repr(self).\n",
      " |  \n",
      " |  __setattr__(self, name, value, /)\n",
      " |      Implement setattr(self, name, value).\n",
      " |  \n",
      " |  ----------------------------------------------------------------------\n",
      " |  Data descriptors defined here:\n",
      " |  \n",
      " |  __func__\n",
      " |      the function (or other callable) implementing a method\n",
      " |  \n",
      " |  __self__\n",
      " |      the instance to which a method is bound\n",
      "\n"
     ]
    }
   ],
   "source": [
    "help(types.MethodType)"
   ]
  },
  {
   "cell_type": "code",
   "execution_count": null,
   "metadata": {
    "collapsed": true
   },
   "outputs": [],
   "source": []
  }
 ],
 "metadata": {
  "kernelspec": {
   "display_name": "Python 3",
   "language": "python",
   "name": "python3"
  },
  "language_info": {
   "codemirror_mode": {
    "name": "ipython",
    "version": 3
   },
   "file_extension": ".py",
   "mimetype": "text/x-python",
   "name": "python",
   "nbconvert_exporter": "python",
   "pygments_lexer": "ipython3",
   "version": "3.6.0"
  }
 },
 "nbformat": 4,
 "nbformat_minor": 2
}
